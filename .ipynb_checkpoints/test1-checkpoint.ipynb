{
 "cells": [
  {
   "cell_type": "code",
   "execution_count": 1,
   "id": "3f2ed7c8",
   "metadata": {},
   "outputs": [],
   "source": [
    "import pdfplumber"
   ]
  },
  {
   "cell_type": "code",
   "execution_count": 3,
   "id": "4fabdd00",
   "metadata": {},
   "outputs": [],
   "source": [
    "pdf = pdfplumber.open('Parcel Report-stadium.pdf')"
   ]
  },
  {
   "cell_type": "code",
   "execution_count": 4,
   "id": "43fe07d8",
   "metadata": {},
   "outputs": [
    {
     "data": {
      "text/plain": [
       "<pdfplumber.pdf.PDF at 0x105891310>"
      ]
     },
     "execution_count": 4,
     "metadata": {},
     "output_type": "execute_result"
    }
   ],
   "source": [
    "pdf"
   ]
  },
  {
   "cell_type": "code",
   "execution_count": 5,
   "id": "adb7a147",
   "metadata": {},
   "outputs": [
    {
     "name": "stdout",
     "output_type": "stream",
     "text": [
      "<pdfplumber.pdf.PDF object at 0x105891310>\n"
     ]
    }
   ],
   "source": [
    "print(pdf)"
   ]
  },
  {
   "cell_type": "code",
   "execution_count": 6,
   "id": "e960ba79",
   "metadata": {},
   "outputs": [],
   "source": [
    "pdf.pages\n",
    "\n",
    "# associate a variable to the first page\n",
    "page_1 = pdf.pages[0]"
   ]
  },
  {
   "cell_type": "code",
   "execution_count": 7,
   "id": "da2f8e8b",
   "metadata": {},
   "outputs": [
    {
     "data": {
      "text/plain": [
       "'KGIS Parcel Report\\n095GP014\\nPARKEY SYLVIA ROCHELLE\\nAddress\\nOwner Card  Mailing Label  Map and Details Report\\n095GN008\\nLEE MARY N\\nAddress\\nOwner Card  Mailing Label  Map and Details Report\\n095GP010\\nBROWN MARTHA S COBB & JERVIS S\\nAddress\\nOwner Card  Mailing Label  Map and Details Report\\n094EF043\\nHEURISTIC WORKSHOP INC\\nAddress\\nOwner Card  Mailing Label  Map and Details Report\\n095BF027\\nLEVITT JOSEPH J JR\\nAddress\\nOwner Card  Mailing Label  Map and Details Report\\n095AJ005\\nGRAY-HODGES CORPORATION\\nAddress\\nOwner Card  Mailing Label  Map and Details Report\\n094LC003\\nCITY SUMMIT LLC\\nAddress\\nOwner Card  Mailing Label  Map and Details Report\\n095BM001\\nJOHN RACHEL'"
      ]
     },
     "execution_count": 7,
     "metadata": {},
     "output_type": "execute_result"
    }
   ],
   "source": [
    "# extracting the text\n",
    "first_text = page_1.extract_text()\n",
    "\n",
    "#checking out what the variable text contains now\n",
    "first_text"
   ]
  },
  {
   "cell_type": "code",
   "execution_count": 8,
   "id": "8b859971",
   "metadata": {},
   "outputs": [
    {
     "name": "stdout",
     "output_type": "stream",
     "text": [
      "KGIS Parcel Report\n",
      "095GP014\n",
      "PARKEY SYLVIA ROCHELLE\n",
      "Address\n",
      "Owner Card  Mailing Label  Map and Details Report\n",
      "095GN008\n",
      "LEE MARY N\n",
      "Address\n",
      "Owner Card  Mailing Label  Map and Details Report\n",
      "095GP010\n",
      "BROWN MARTHA S COBB & JERVIS S\n",
      "Address\n",
      "Owner Card  Mailing Label  Map and Details Report\n",
      "094EF043\n",
      "HEURISTIC WORKSHOP INC\n",
      "Address\n",
      "Owner Card  Mailing Label  Map and Details Report\n",
      "095BF027\n",
      "LEVITT JOSEPH J JR\n",
      "Address\n",
      "Owner Card  Mailing Label  Map and Details Report\n",
      "095AJ005\n",
      "GRAY-HODGES CORPORATION\n",
      "Address\n",
      "Owner Card  Mailing Label  Map and Details Report\n",
      "094LC003\n",
      "CITY SUMMIT LLC\n",
      "Address\n",
      "Owner Card  Mailing Label  Map and Details Report\n",
      "095BM001\n",
      "JOHN RACHEL\n"
     ]
    }
   ],
   "source": [
    "print(first_text)"
   ]
  },
  {
   "cell_type": "code",
   "execution_count": 11,
   "id": "2cc0da09",
   "metadata": {},
   "outputs": [
    {
     "ename": "NameError",
     "evalue": "name 'all_pages' is not defined",
     "output_type": "error",
     "traceback": [
      "\u001b[0;31m---------------------------------------------------------------------------\u001b[0m",
      "\u001b[0;31mNameError\u001b[0m                                 Traceback (most recent call last)",
      "Cell \u001b[0;32mIn [11], line 3\u001b[0m\n\u001b[1;32m      1\u001b[0m pdf\u001b[38;5;241m.\u001b[39mpages\n\u001b[0;32m----> 3\u001b[0m \u001b[38;5;28;01mfor\u001b[39;00m each_page \u001b[38;5;129;01min\u001b[39;00m \u001b[43mall_pages\u001b[49m:\n\u001b[1;32m      4\u001b[0m     text_of_each_page \u001b[38;5;241m=\u001b[39m each_page\u001b[38;5;241m.\u001b[39mextract_text()\n",
      "\u001b[0;31mNameError\u001b[0m: name 'all_pages' is not defined"
     ]
    }
   ],
   "source": [
    "pdf.pages"
   ]
  },
  {
   "cell_type": "code",
   "execution_count": 13,
   "id": "adf790ce",
   "metadata": {},
   "outputs": [],
   "source": [
    "all_pages = pdf.pages"
   ]
  },
  {
   "cell_type": "code",
   "execution_count": 14,
   "id": "2b1aac26",
   "metadata": {},
   "outputs": [],
   "source": [
    "for each_page in all_pages:\n",
    "    text_of_each_page = each_page.extract_text()"
   ]
  },
  {
   "cell_type": "code",
   "execution_count": 17,
   "id": "86785867",
   "metadata": {},
   "outputs": [
    {
     "name": "stdout",
     "output_type": "stream",
     "text": [
      "KGIS Parcel Report\n",
      "095AM021\n",
      "TWOFOLD PURCHASE GP\n",
      "Address\n",
      "Owner Card  Mailing Label  Map and Details Report\n"
     ]
    }
   ],
   "source": [
    "print(text_of_each_page)"
   ]
  },
  {
   "cell_type": "code",
   "execution_count": null,
   "id": "1272b1ea",
   "metadata": {},
   "outputs": [],
   "source": []
  }
 ],
 "metadata": {
  "kernelspec": {
   "display_name": "Python 3 (ipykernel)",
   "language": "python",
   "name": "python3"
  },
  "language_info": {
   "codemirror_mode": {
    "name": "ipython",
    "version": 3
   },
   "file_extension": ".py",
   "mimetype": "text/x-python",
   "name": "python",
   "nbconvert_exporter": "python",
   "pygments_lexer": "ipython3",
   "version": "3.8.9"
  }
 },
 "nbformat": 4,
 "nbformat_minor": 5
}
